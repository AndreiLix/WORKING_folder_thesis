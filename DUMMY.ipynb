{
 "cells": [
  {
   "cell_type": "code",
   "execution_count": 2,
   "metadata": {},
   "outputs": [
    {
     "name": "stdout",
     "output_type": "stream",
     "text": [
      "27\n"
     ]
    }
   ],
   "source": [
    "print(len([-0.11334909, -0.20572877,  0.10424855,  0.19146106, -1.1503798 ,\n",
    "        -1.1852491 , -1.3405015 , -0.5204041 ,  0.534996  ,  1.6859065 ,\n",
    "        -0.8089199 , -1.2859616 , -0.20712583,  3.2371178 , -1.6929382 ,\n",
    "         0.4547346 , -0.46866286,  0.19750705, -0.33731866,  0.06326398,\n",
    "         0.02181493,  0.3700049 , -1.7397608 , -0.16139461, -0.82374346,\n",
    "         0.00676688,  0.83592147]))"
   ]
  }
 ],
 "metadata": {
  "kernelspec": {
   "display_name": "Python 3",
   "language": "python",
   "name": "python3"
  },
  "language_info": {
   "codemirror_mode": {
    "name": "ipython",
    "version": 3
   },
   "file_extension": ".py",
   "mimetype": "text/x-python",
   "name": "python",
   "nbconvert_exporter": "python",
   "pygments_lexer": "ipython3",
   "version": "3.10.6"
  },
  "orig_nbformat": 4
 },
 "nbformat": 4,
 "nbformat_minor": 2
}
